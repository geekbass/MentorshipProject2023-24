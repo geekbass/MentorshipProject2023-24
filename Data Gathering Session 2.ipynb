{
 "cells": [
  {
   "cell_type": "markdown",
   "id": "f2558e94-96bb-4f56-b3bf-b9a193d04bfd",
   "metadata": {},
   "source": [
    "# Scraping Data from the Web\n",
    "Here we will use Beautiful soup to scrape data from Yelp. We are barely scratching the surface of the power of scraping the web with Python. There are several other libraris and ways of doing this.\n",
    "\n",
    "Run the Notebook in order."
   ]
  },
  {
   "cell_type": "code",
   "execution_count": null,
   "id": "7804678c-8b15-42db-b199-020a95830301",
   "metadata": {},
   "outputs": [],
   "source": [
    "# Import our libraries\n",
    "import requests\n",
    "from bs4 import BeautifulSoup\n",
    "import re"
   ]
  },
  {
   "cell_type": "markdown",
   "id": "c9b6cb2a-f147-48f8-8201-fbb7ed21e132",
   "metadata": {},
   "source": [
    "#### Open a browser and go to https://www.yelp.com/\n",
    "\n"
   ]
  },
  {
   "cell_type": "markdown",
   "id": "dd2cc496-5a29-4a7d-bec8-7b901ff84391",
   "metadata": {},
   "source": [
    "#### Bring up a page for any business you would like and get the link"
   ]
  },
  {
   "cell_type": "code",
   "execution_count": null,
   "id": "eb124f99-522a-4be3-a3c2-9b44d0b6de6f",
   "metadata": {},
   "outputs": [],
   "source": [
    "# Set the Yelp Link Here as a string\n",
    "LINK = 'https://www.yelp.com/biz/bakersfield-columbus'"
   ]
  },
  {
   "cell_type": "code",
   "execution_count": null,
   "id": "106c9a14-dcf8-4f27-a049-d561920cc23d",
   "metadata": {},
   "outputs": [],
   "source": [
    "# Here we are using Python Requests to \"GET\" the page\n",
    "r = requests.get(LINK)"
   ]
  },
  {
   "cell_type": "code",
   "execution_count": null,
   "id": "3c988852-857c-4490-bed2-3a973dc23af2",
   "metadata": {},
   "outputs": [],
   "source": [
    "# Get the text from the response. In this case its actually HTML code\n",
    "html_code = r.text\n",
    "\n",
    "# Print it just to see what it looks like\n",
    "print(html_code)"
   ]
  },
  {
   "cell_type": "code",
   "execution_count": null,
   "id": "8dc7c838-70c1-477a-8962-28b316668c5d",
   "metadata": {},
   "outputs": [],
   "source": [
    "# Initialize Beautifulsoup with our html_code and use the 'html.parser' so we can parse the html code\n",
    "soup = BeautifulSoup(html_code, 'html.parser')"
   ]
  },
  {
   "cell_type": "code",
   "execution_count": null,
   "id": "7ebdc2c4-dc89-4e0c-9254-774f1222610f",
   "metadata": {},
   "outputs": [],
   "source": [
    "# Here we are going to create a regex to search through the html code in this case looking for comments\n",
    "regex = re.compile('.*comment.*')\n",
    "\n",
    "# Using the find_all method from soup class find all p anchors with a class containing our regex\n",
    "# find_all method finds every instance and places into a list\n",
    "results = soup.find_all('p', {'class':regex})\n",
    "\n",
    "# If curious you can print the results\n",
    "print(results)"
   ]
  },
  {
   "cell_type": "code",
   "execution_count": null,
   "id": "316580f9-c642-40e7-9a4d-c9dba306750d",
   "metadata": {},
   "outputs": [],
   "source": [
    "# Using the text method we will extract only the text of each result in the list and save into a new list called reviews\n",
    "reviews = [result.text for result in results]\n",
    "\n",
    "# Number of reviews\n",
    "print(len(reviews))\n",
    "# Print each review on new line. Just makes it easier to read.\n",
    "[print(review) for review in reviews]"
   ]
  },
  {
   "cell_type": "markdown",
   "id": "cadd08fc-c974-41a1-83cc-314475a9d139",
   "metadata": {},
   "source": [
    "# Getting started with Pandas Dataframes\n",
    "Pandas DataFrames serve as a fundamental tool for data scientists, analysts, and developers, providing a versatile and efficient way to work with structured data, perform data operations, and prepare data for further analysis or machine learning tasks.\n",
    "\n",
    "Simple way to create, label, and clean our data before training. **The point here is to get a taste for what it is like to create data to train a model.**"
   ]
  },
  {
   "cell_type": "markdown",
   "id": "459c208b-caa6-4100-b08b-8912fe96619b",
   "metadata": {},
   "source": [
    "### Our Model\n",
    "We are preparing data for a sentiment analysis model where our model takes in some text (review) and tries to identify if the text is positive or negative. Below steps will show how we can label data we captured with either a positive or negative sentiment."
   ]
  },
  {
   "cell_type": "markdown",
   "id": "03fe003a-d357-45e0-977e-94089cc9ce94",
   "metadata": {},
   "source": [
    "#### Check out this quick primer on Pandas https://www.youtube.com/shorts/H0JriItTqn8"
   ]
  },
  {
   "cell_type": "code",
   "execution_count": null,
   "id": "2d1ac1e0-91dd-472e-88fe-6f261364896a",
   "metadata": {},
   "outputs": [],
   "source": [
    "# import pandas library\n",
    "import pandas as pd"
   ]
  },
  {
   "cell_type": "code",
   "execution_count": null,
   "id": "74f8b979-4a85-4cbc-8e38-dfbf6b2ff474",
   "metadata": {},
   "outputs": [],
   "source": [
    "# Lets import each one of our reviews from above into a Pandas dataframe for analysis.\n",
    "\n",
    "# Create a Dataframe from pandas using the DataFrame class\n",
    "df = pd.DataFrame(reviews, columns=['review'])\n",
    "\n",
    "# Print the dataframe. NOTE: not using print() method displays it in a nicer format.\n",
    "df"
   ]
  },
  {
   "cell_type": "code",
   "execution_count": null,
   "id": "6186e320-e53b-4e16-8efa-5d35ab2348db",
   "metadata": {},
   "outputs": [],
   "source": [
    "# Add an additional empty colummn for sentiment in the dataframe. This column will be where we add our analysis.\n",
    "df['sentiment'] = \"\" \n",
    "\n",
    "# See it\n",
    "df"
   ]
  },
  {
   "cell_type": "code",
   "execution_count": null,
   "id": "3dfa6f37-e22d-41e1-a7af-4f8fa4b10a5c",
   "metadata": {},
   "outputs": [],
   "source": [
    "# Show the text of the first review. Here we filter the first row with .iloc and ONLY the 'review' column.\n",
    "df['review'].iloc[0]"
   ]
  },
  {
   "cell_type": "code",
   "execution_count": null,
   "id": "2cc09cf0-afa0-4a5b-9b2a-6c7aefa56a26",
   "metadata": {},
   "outputs": [],
   "source": [
    "# After reading the text, is it positive or negative?\n",
    "\n",
    "# We will consider this review as positive\n",
    "df['sentiment'].iloc[0] = 'positive'\n",
    "\n",
    "# display first row \n",
    "df.iloc[0]\n",
    "\n",
    "# Or uncomment to display the entire DF\n",
    "#df"
   ]
  },
  {
   "cell_type": "code",
   "execution_count": null,
   "id": "d9a21c8b-7a20-49a7-9358-e8817e7460a4",
   "metadata": {},
   "outputs": [],
   "source": [
    "# Repeat the same step for the rest of the rows. Run the next two cells one after another first changing the row variable\n",
    "row = 1\n",
    "\n",
    "df['review'].iloc[row]"
   ]
  },
  {
   "cell_type": "code",
   "execution_count": null,
   "id": "2acb4897-8e84-46d5-a232-122139b01182",
   "metadata": {},
   "outputs": [],
   "source": [
    "# Make Positive or negative\n",
    "df['sentiment'].iloc[row] = '' #'positive' or negative"
   ]
  },
  {
   "cell_type": "code",
   "execution_count": null,
   "id": "6d565d22-d2c3-4780-9ec3-74ab3dac73b8",
   "metadata": {},
   "outputs": [],
   "source": [
    "# Display the results when done\n",
    "df"
   ]
  },
  {
   "cell_type": "code",
   "execution_count": null,
   "id": "ab4d3b70-40af-4054-ac78-13d0fcfc3f6a",
   "metadata": {},
   "outputs": [],
   "source": [
    "# If you would like to randomly generate the sentiment you can uncomment all the cell code below\n",
    "# import random\n",
    "\n",
    "# rand_sentiment = ['positive', 'negative']\n",
    "\n",
    "# for row in range(len(df)):\n",
    "#     df['sentiment'].iloc[row] = random.choice(rand_sentiment)\n",
    "\n",
    "# df"
   ]
  },
  {
   "cell_type": "code",
   "execution_count": null,
   "id": "65518401-8c96-4495-a1ff-b0cc765b14b9",
   "metadata": {},
   "outputs": [],
   "source": [
    "# To save our DF to pickup where we left off, we can dump it to a file such as a csv or parquet. \n",
    "\n",
    "# Lets save our DF as a csv.\n",
    "df.to_csv('yelp_sentiment.csv')\n",
    "\n",
    "# You will see that a new file was created in your current directory."
   ]
  },
  {
   "cell_type": "code",
   "execution_count": null,
   "id": "0e6cfc6e-849f-4334-9782-16be236ec1c4",
   "metadata": {},
   "outputs": [],
   "source": [
    "# When you are ready to pick back up where you left off you can load a file into a DF using the read_csv() method.\n",
    "import pandas as pd\n",
    "\n",
    "# Calling this new_df so not to confuse with current \n",
    "new_df = pd.read_csv('yelp_sentiment.csv', index_col=0)\n",
    "\n",
    "# Print it and make sure the DF matches where you left off above.\n",
    "new_df"
   ]
  },
  {
   "cell_type": "markdown",
   "id": "ac3c2e41-5401-45b4-9f8d-5da09b045947",
   "metadata": {},
   "source": [
    "# Importing Data from Kaggle\n",
    "For our dataset for training our model we will use a dataset from Kaggle.\n",
    "\n",
    "Go to [Kaggle](https://www.kaggle.com/datasets/zhenyufan/yelp-reveiws?resource=download) and download the Yelp Dataset there so you can become familiar with Kaggle.\n",
    "\n",
    "**If you cannot download and extract it, a copy is at 'yelp.csv'.**"
   ]
  },
  {
   "cell_type": "code",
   "execution_count": null,
   "id": "ea566643-a774-48c9-beff-71e8db615812",
   "metadata": {},
   "outputs": [],
   "source": [
    "# Lets begin taking a look at the dataset and become familiar with it.\n",
    "import pandas as pd\n",
    "\n",
    "# Read in the csv to a DF \n",
    "df = pd.read_csv('yelp.csv')\n",
    "\n",
    "# Get information on the data\n",
    "df.info()"
   ]
  },
  {
   "cell_type": "markdown",
   "id": "02c0c7d6-4df6-4426-9657-95fe07b98a8d",
   "metadata": {},
   "source": [
    "## Dataset for our Model\n",
    "You will see that the dataset consists of 10K entries with 7 columns. Columns of interest to train our sentiment model would be:\n",
    "- stars - This would indicate 1-5 rating on experience. 1 being low and 5 being high.\n",
    "- text - actual review text. This would be classified as either positive or negative for our model. \n",
    "\n",
    "To train our sentiment analysis classifier model, we could take take any rating 3 or higher as positive and anything 2 or lower as negative. "
   ]
  },
  {
   "cell_type": "code",
   "execution_count": null,
   "id": "7631af16-7265-4785-8605-174f2945cb16",
   "metadata": {},
   "outputs": [],
   "source": [
    "# Just to clean things up a bit let's delete columns we dont need: business_id, date, review_id, type, user_id, cool, useful and funny.\n",
    "df = df.drop(columns=['business_id', 'date', 'review_id', 'date', 'type', 'user_id', 'cool', 'useful', 'funny'])"
   ]
  },
  {
   "cell_type": "code",
   "execution_count": null,
   "id": "d29e9ae0-ff1a-4028-ae6e-f2ef3a38c8f5",
   "metadata": {},
   "outputs": [],
   "source": [
    "# Lets create another column called 'sentiment'.\n",
    "df['sentiment'] = \"\""
   ]
  },
  {
   "cell_type": "code",
   "execution_count": null,
   "id": "48230fb8-a156-4c4b-be34-3b19c109c84f",
   "metadata": {},
   "outputs": [],
   "source": [
    "# Now lets do some calculations. For any row where the stars are 3 or higher, we consider the sentiment to be positive. 2 or under is negative.\n",
    "for row in range(len(df)):\n",
    "    # If greater than or equal to 3 its positive else its negative\n",
    "    if df['stars'].iloc[row] >= 3:\n",
    "        df['sentiment'].iloc[row] = 'positive'\n",
    "    else:\n",
    "        df['sentiment'].iloc[row] = 'negative'\n",
    "\n",
    "# display it\n",
    "df"
   ]
  },
  {
   "cell_type": "code",
   "execution_count": null,
   "id": "fc3128c4-0f5f-4ed1-b7d4-0954fbddd91e",
   "metadata": {},
   "outputs": [],
   "source": [
    "# Like we did above, save our training data to a csv file for training a model later\n",
    "df.to_csv('training_data.csv')"
   ]
  },
  {
   "cell_type": "code",
   "execution_count": null,
   "id": "79b332b2-00e5-4fe1-99d4-03e27be71547",
   "metadata": {},
   "outputs": [],
   "source": []
  }
 ],
 "metadata": {
  "kernelspec": {
   "display_name": "Python 3 (ipykernel)",
   "language": "python",
   "name": "python3"
  },
  "language_info": {
   "codemirror_mode": {
    "name": "ipython",
    "version": 3
   },
   "file_extension": ".py",
   "mimetype": "text/x-python",
   "name": "python",
   "nbconvert_exporter": "python",
   "pygments_lexer": "ipython3",
   "version": "3.10.8"
  }
 },
 "nbformat": 4,
 "nbformat_minor": 5
}
