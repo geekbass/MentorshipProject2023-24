{
 "cells": [
  {
   "cell_type": "markdown",
   "id": "f2558e94-96bb-4f56-b3bf-b9a193d04bfd",
   "metadata": {},
   "source": [
    "# Scraping Data from the Web\n",
    "Here we will use Beautiful soup to scrape data from Yelp. We are barely scratching the surface of the power of scraping the web with Python. There are several other libraris and ways of doing this.\n",
    "\n",
    "Run the Notebook in order."
   ]
  },
  {
   "cell_type": "code",
   "execution_count": 1,
   "id": "7804678c-8b15-42db-b199-020a95830301",
   "metadata": {},
   "outputs": [],
   "source": [
    "# Import our libraries\n",
    "import requests\n",
    "from bs4 import BeautifulSoup\n",
    "import re"
   ]
  },
  {
   "cell_type": "markdown",
   "id": "c9b6cb2a-f147-48f8-8201-fbb7ed21e132",
   "metadata": {},
   "source": [
    "#### Open a browser and go to https://www.yelp.com/\n",
    "\n"
   ]
  },
  {
   "cell_type": "markdown",
   "id": "dd2cc496-5a29-4a7d-bec8-7b901ff84391",
   "metadata": {},
   "source": [
    "#### Bring up a page for any business you would like and get the link"
   ]
  },
  {
   "cell_type": "code",
   "execution_count": 2,
   "id": "eb124f99-522a-4be3-a3c2-9b44d0b6de6f",
   "metadata": {},
   "outputs": [],
   "source": [
    "# Set the Yelp Link Here as a string\n",
    "LINK = 'https://www.yelp.com/biz/bakersfield-columbus'"
   ]
  },
  {
   "cell_type": "code",
   "execution_count": 3,
   "id": "106c9a14-dcf8-4f27-a049-d561920cc23d",
   "metadata": {},
   "outputs": [],
   "source": [
    "# Here we are using Python Requests to \"GET\" the page\n",
    "r = requests.get(LINK)"
   ]
  },
  {
   "cell_type": "code",
   "execution_count": null,
   "id": "3c988852-857c-4490-bed2-3a973dc23af2",
   "metadata": {},
   "outputs": [],
   "source": [
    "# Get the text from the response. In this case its actually HTML code\n",
    "html_code = r.text\n",
    "\n",
    "# Print it just to see what it looks like\n",
    "print(html_code)"
   ]
  },
  {
   "cell_type": "code",
   "execution_count": 7,
   "id": "8dc7c838-70c1-477a-8962-28b316668c5d",
   "metadata": {},
   "outputs": [],
   "source": [
    "# Initialize Beautifulsoup with our html_code and use the 'html.parser' so we can parse the html code\n",
    "soup = BeautifulSoup(html_code, 'html.parser')"
   ]
  },
  {
   "cell_type": "code",
   "execution_count": 8,
   "id": "7ebdc2c4-dc89-4e0c-9254-774f1222610f",
   "metadata": {},
   "outputs": [
    {
     "name": "stdout",
     "output_type": "stream",
     "text": [
      "[<p class=\"comment__09f24__D0cxf css-qgunke\"><span class=\"raw__09f24__T4Ezm\" lang=\"en\">Great spot in the short north for a good casual bite!<br/>Great food, great atmosphere, even better service!<br/>Our server Leyla was phenomenal! Thank you and see you next time!</span></p>, <p class=\"comment__09f24__ZU8MN css-qgunke\"><span class=\"raw__09f24__T4Ezm\">Thanks for taking time to share, Blake! It's wonderful to know that our team, especially Leyla, made your experience memorable. We appreciate your support and look forward to welcoming you back soon!</span> </p>, <p class=\"comment__09f24__D0cxf css-qgunke\"><span class=\"raw__09f24__T4Ezm\" lang=\"en\">Wow-this was delicious. From start to finish, everything was great.<br/><br/>Our server, Nathan, knew the menu very well and paced everything perfectly. Assisted in finding stuff for one of us with a serious allergy with ease. Our drinks, a seasonal cranberry margarita (picture included) was pretty good and looked beautiful, but this pineapple margarita thing we ordered was just phenomenal. I'd recommend both. <br/><br/>Queso was not my favorite but it was still tasty. Guac was good and so were the two other sauces that came with it. Sorry I do not know the names of them, but that green one was amazing, tasted so fresh.<br/><br/>There were so many of us, we pretty much got the entire taco menu. My favorite was the short rib one, least favorite was the Huitlacoche (it was still pretty good though, and I think it's vegetarian). Pollo (verde? Asado? Chicken something..) was great as well... they're all great! You go order them all! Overall, awesome spot with great food, drinks, and service. Try it out while you're in Columbus</span></p>, <p class=\"comment__09f24__ZU8MN truncated__09f24__lSBbT css-qgunke\"><span class=\"raw__09f24__T4Ezm\">Thank you for your positive review, Alannah! We're glad to hear that you enjoyed your experience at Bakersfield Short North. We appreciate your feedback on our menu and service. We apologize if the queso wasn't your favorite, but we're glad you enjoyed the guac and sauces. We're also happy to hear that you liked our taco menu, especially the short rib and Pollo options. We appreciate your support and hope to see you again soon!</span> </p>, <p class=\"comment__09f24__D0cxf css-qgunke\"><span class=\"raw__09f24__T4Ezm\" lang=\"en\">Fine choice for a quick bite. <br/><br/>Their marketing materials boast \"authentic Mexican street fare,\" and I don't know if that's true but it's far from traditional. The recipes seem more commercial to me, and the tacos are much more saucy than I'm used to. I much prefer the mom and pop family-owned joints where it all started with a really great home cook who had big dreams and a whole lot of hustle. <br/><br/>We had the esquites and it was decent but honestly was just too dressed up and standardized. Street food is messy and unmeasured and often falling off the plate or out of your hands or whatever is holding it in place. This was well-plated so not quiiiiitte authentic, yeah? The flavor was accordingly just not as robust and complex as I'd like. But good enough. <br/><br/>We had a sampling of tacos--I think the carnitas, al pastor, fish, and beef short rib (because, what? no carne asada or bistec???). They are small--as street tacos are--but again: too pretty and too saucy, and too much stuff. All I need on my tacos is cilantro and onion and a squeeze of lime, and maybe a couple of slices of red radish. <br/><br/>Bakersfield is good enough if you're looking to hang out in the Short North and enjoy a Mexican-themed dining experience with friends, but if you're really looking for good, authentic street tacos there is a multitude of Mexican (and other Latine) food trucks and family-owned restaurants throughout the city that truly are the real deal.</span></p>, <p class=\"comment__09f24__ZU8MN truncated__09f24__lSBbT css-qgunke\"><span class=\"raw__09f24__T4Ezm\">We appreciate your feedback, Celina. While we strive to offer a unique and enjoyable dining experience, we understand that our interpretation of Mexican street fare may not align with everyone's expectations. We take note of your comments regarding the authenticity and flavor of our dishes. We value your input and will continue to work on improving our offerings. Thank you for choosing Bakersfield Short North.</span> </p>, <p class=\"comment__09f24__D0cxf css-qgunke\"><span class=\"raw__09f24__T4Ezm\" lang=\"en\">I don't think I've ever gone to Bakersfield and not ordered tacos, but I decided to change things up. I was craving a fresh salad and decided on the Willie with chicken. Size wise - it was perfect. Just enough to satisfy me and leave room for dessert. On a fullness scale, I'd say a 6.5/10. The bacon and queso fresco really stood out in terms of flavor. The amount of chicken added was pitiful, but the bacon made up for it. I was happy with the dish overall. <br/><br/>Even after a football game in the busy Short North, the service was great. Our waiter was attentive and helpful with explaining the menu to the first timers in our group. I always love this place and will continue to go back. If you've never been to this restaurant, definitely order three tacos because they're quite small.</span></p>, <p class=\"comment__09f24__ZU8MN truncated__09f24__lSBbT css-qgunke\"><span class=\"raw__09f24__T4Ezm\">Thank you for your review, Diana! We appreciate your feedback and are glad to hear that you enjoyed your salad at Bakersfield Short North. We apologize for the small amount of chicken in your dish, but we're glad the bacon and queso fresco made up for it. We're also happy to hear that you had a great service experience with our attentive waiter. We value your continued support and hope to see you again soon.</span> </p>, <p class=\"comment__09f24__D0cxf css-qgunke\"><span class=\"raw__09f24__T4Ezm\" lang=\"en\">Drinks are great!  Haven't tried the food yet but the atmosphere is fun and the drinks are delicious !</span></p>, <p class=\"comment__09f24__ZU8MN css-qgunke\"><span class=\"raw__09f24__T4Ezm\">Thank you for your positive review, Kelly! We're glad you enjoyed our drinks and had a fun atmosphere. We hope you'll have a chance to try our food soon as well. Cheers!</span> </p>, <p class=\"comment__09f24__D0cxf css-qgunke\"><span class=\"raw__09f24__T4Ezm\" lang=\"en\">We came here for a drink and a quick bite to eat while waiting to get into a jazz lounge nearby. They have an extensive tequila selection, so if tequila is your drink of choice, you'll have plenty of options. I ordered an amaretto sour and my husband ordered a margarita, both good. We shared some short rib queso. I've never seen short rib served with queso, it was a tad spicy, but very good. We only ordered an appetizer, so I can't speak for the rest of the menu, but I'd like to go back and order different menu items.</span></p>, <p class=\"comment__09f24__ZU8MN truncated__09f24__lSBbT css-qgunke\"><span class=\"raw__09f24__T4Ezm\">We're thrilled to hear you enjoyed our tequila selection and the short rib queso. It's great to know that both your amaretto sour and margarita hit the spot. We look forward to welcoming you back to explore more of our menu. Thank you for your feedback! We appreciate your support and hope to see you again soon. Cheers!</span> </p>, <p class=\"comment__09f24__D0cxf css-qgunke\"><span class=\"raw__09f24__T4Ezm\" lang=\"en\">Ok why do we not have this place in California !!!! We love chef Daniel and Page. The ambiance, food and drink are perfection. The vibe is so cool the food is outrageously good and it's just a really fun place! Live, love, love it here can't wait to come back!!!!</span></p>, <p class=\"comment__09f24__ZU8MN truncated__09f24__lSBbT css-qgunke\"><span class=\"raw__09f24__T4Ezm\">Thank you for your amazing review, Sonia Alisa! We're thrilled to hear that you had such a fantastic experience at Bakersfield Short North. We appreciate your kind words about our chef Daniel and Paige, as well as the ambiance, food, and drinks. We're sorry we don't have a location in California, but we hope you'll visit us again when you're in the area. Thank you for your support!</span> </p>, <p class=\"comment__09f24__D0cxf css-qgunke\"><span class=\"raw__09f24__T4Ezm\" lang=\"en\">First time dining here. I've passed by this place a million times but never made it past the door. I decided to grab brunch. <br/><br/>The restaurant has a nice vibe. Warm and inviting. The service was friendly and attentive. <br/><br/>I opted for 3 tacos and some guacamole and chips. The guacamole wasn't my favorite. Very bland, but the tacos were great. I had a shrimp taco, fish taco and a beef taco that was the special for the day. I would order all three of these again. <br/><br/>I'm glad I gave this spot a try. I'll be back.</span></p>, <p class=\"comment__09f24__ZU8MN truncated__09f24__lSBbT css-qgunke\"><span class=\"raw__09f24__T4Ezm\">Hi Brent! Thanks for taking the time to share your experience at Bakersfield. Sounds like our guac didn’t hit the mark for you unfortunately. We’d love to make this up to you on your next visit. Please feel free to reach out to let us know when your next visit might be to get your next appetizer on us. You can let reach me at my email below. We hope to see you again. Cheers!<br/><br/>Austin Moore<br/>General Manager<br/>austin.moore@tdome.com</span> </p>, <p class=\"comment__09f24__D0cxf css-qgunke\"><span class=\"raw__09f24__T4Ezm\" lang=\"en\">Absolutely love this place. My daughter has been raving about it for months and we recently had the opportunity to visit her. So we decided to try it out. We were not disappointed. The tacos are amazing and everything from the hostess, the server, the tacos, chips and the ambiance were outstanding. We ordered a round of tacos and after finishing them we all agreed that they were the best we ever had. So we ordered another round!!!  We are already planning another trip to visit our daughter and to enjoy dinner at your facility. WELL DONE.</span></p>, <p class=\"comment__09f24__ZU8MN truncated__09f24__lSBbT css-qgunke\"><span class=\"raw__09f24__T4Ezm\">We're thrilled to hear that you and your family enjoyed your visit and our tacos! It's wonderful to know that our team and ambiance added to your positive experience. We look forward to welcoming you back on your next visit. Thank you for your kind words and high rating! We appreciate your support and hope to see you back again soon!</span> </p>, <p class=\"comment__09f24__D0cxf css-qgunke\"><span class=\"raw__09f24__T4Ezm\" lang=\"en\">Went here for a early dinner with some friends and it was so great! I forgot how good their queso was! I ordered the short rib taco (one of their popular ones), the baja shrimp, and the papas and chorizo taco. They were all seriously so delicious. Pineapple marg was pretty standard! Our server was super kind :)</span></p>, <p class=\"comment__09f24__ZU8MN truncated__09f24__lSBbT css-qgunke\"><span class=\"raw__09f24__T4Ezm\">Greetings Klaudia,<br/><br/>Thank you so much for sharing your positive experience at Bakersfield Short North! We're thrilled to hear that you enjoyed our food, and that our server provided excellent service. We hope to see you again soon!<br/><br/>Best,<br/>Bakersfield Short North<br/><br/>(Note: As this is a positive review, there is no need to use the phone number provided. It is only necessary to use the phone number if there is a negative review and the business wishes to address any concerns the customer may have had.)</span> </p>]\n"
     ]
    }
   ],
   "source": [
    "# Here we are going to create a regex to search through the html code in this case looking for comments\n",
    "regex = re.compile('.*comment.*')\n",
    "\n",
    "# Using the find_all method from soup class find all p anchors with a class containing our regex\n",
    "# find_all method finds every instance and places into a list\n",
    "results = soup.find_all('p', {'class':regex})\n",
    "\n",
    "# If curious you can print the results\n",
    "print(results)"
   ]
  },
  {
   "cell_type": "code",
   "execution_count": 9,
   "id": "316580f9-c642-40e7-9a4d-c9dba306750d",
   "metadata": {},
   "outputs": [
    {
     "name": "stdout",
     "output_type": "stream",
     "text": [
      "20\n",
      "Great spot in the short north for a good casual bite!Great food, great atmosphere, even better service!Our server Leyla was phenomenal! Thank you and see you next time!\n",
      "Thanks for taking time to share, Blake! It's wonderful to know that our team, especially Leyla, made your experience memorable. We appreciate your support and look forward to welcoming you back soon! \n",
      "Wow-this was delicious. From start to finish, everything was great.Our server, Nathan, knew the menu very well and paced everything perfectly. Assisted in finding stuff for one of us with a serious allergy with ease. Our drinks, a seasonal cranberry margarita (picture included) was pretty good and looked beautiful, but this pineapple margarita thing we ordered was just phenomenal. I'd recommend both. Queso was not my favorite but it was still tasty. Guac was good and so were the two other sauces that came with it. Sorry I do not know the names of them, but that green one was amazing, tasted so fresh.There were so many of us, we pretty much got the entire taco menu. My favorite was the short rib one, least favorite was the Huitlacoche (it was still pretty good though, and I think it's vegetarian). Pollo (verde? Asado? Chicken something..) was great as well... they're all great! You go order them all! Overall, awesome spot with great food, drinks, and service. Try it out while you're in Columbus\n",
      "Thank you for your positive review, Alannah! We're glad to hear that you enjoyed your experience at Bakersfield Short North. We appreciate your feedback on our menu and service. We apologize if the queso wasn't your favorite, but we're glad you enjoyed the guac and sauces. We're also happy to hear that you liked our taco menu, especially the short rib and Pollo options. We appreciate your support and hope to see you again soon! \n",
      "Fine choice for a quick bite. Their marketing materials boast \"authentic Mexican street fare,\" and I don't know if that's true but it's far from traditional. The recipes seem more commercial to me, and the tacos are much more saucy than I'm used to. I much prefer the mom and pop family-owned joints where it all started with a really great home cook who had big dreams and a whole lot of hustle. We had the esquites and it was decent but honestly was just too dressed up and standardized. Street food is messy and unmeasured and often falling off the plate or out of your hands or whatever is holding it in place. This was well-plated so not quiiiiitte authentic, yeah? The flavor was accordingly just not as robust and complex as I'd like. But good enough. We had a sampling of tacos--I think the carnitas, al pastor, fish, and beef short rib (because, what? no carne asada or bistec???). They are small--as street tacos are--but again: too pretty and too saucy, and too much stuff. All I need on my tacos is cilantro and onion and a squeeze of lime, and maybe a couple of slices of red radish. Bakersfield is good enough if you're looking to hang out in the Short North and enjoy a Mexican-themed dining experience with friends, but if you're really looking for good, authentic street tacos there is a multitude of Mexican (and other Latine) food trucks and family-owned restaurants throughout the city that truly are the real deal.\n",
      "We appreciate your feedback, Celina. While we strive to offer a unique and enjoyable dining experience, we understand that our interpretation of Mexican street fare may not align with everyone's expectations. We take note of your comments regarding the authenticity and flavor of our dishes. We value your input and will continue to work on improving our offerings. Thank you for choosing Bakersfield Short North. \n",
      "I don't think I've ever gone to Bakersfield and not ordered tacos, but I decided to change things up. I was craving a fresh salad and decided on the Willie with chicken. Size wise - it was perfect. Just enough to satisfy me and leave room for dessert. On a fullness scale, I'd say a 6.5/10. The bacon and queso fresco really stood out in terms of flavor. The amount of chicken added was pitiful, but the bacon made up for it. I was happy with the dish overall. Even after a football game in the busy Short North, the service was great. Our waiter was attentive and helpful with explaining the menu to the first timers in our group. I always love this place and will continue to go back. If you've never been to this restaurant, definitely order three tacos because they're quite small.\n",
      "Thank you for your review, Diana! We appreciate your feedback and are glad to hear that you enjoyed your salad at Bakersfield Short North. We apologize for the small amount of chicken in your dish, but we're glad the bacon and queso fresco made up for it. We're also happy to hear that you had a great service experience with our attentive waiter. We value your continued support and hope to see you again soon. \n",
      "Drinks are great!  Haven't tried the food yet but the atmosphere is fun and the drinks are delicious !\n",
      "Thank you for your positive review, Kelly! We're glad you enjoyed our drinks and had a fun atmosphere. We hope you'll have a chance to try our food soon as well. Cheers! \n",
      "We came here for a drink and a quick bite to eat while waiting to get into a jazz lounge nearby. They have an extensive tequila selection, so if tequila is your drink of choice, you'll have plenty of options. I ordered an amaretto sour and my husband ordered a margarita, both good. We shared some short rib queso. I've never seen short rib served with queso, it was a tad spicy, but very good. We only ordered an appetizer, so I can't speak for the rest of the menu, but I'd like to go back and order different menu items.\n",
      "We're thrilled to hear you enjoyed our tequila selection and the short rib queso. It's great to know that both your amaretto sour and margarita hit the spot. We look forward to welcoming you back to explore more of our menu. Thank you for your feedback! We appreciate your support and hope to see you again soon. Cheers! \n",
      "Ok why do we not have this place in California !!!! We love chef Daniel and Page. The ambiance, food and drink are perfection. The vibe is so cool the food is outrageously good and it's just a really fun place! Live, love, love it here can't wait to come back!!!!\n",
      "Thank you for your amazing review, Sonia Alisa! We're thrilled to hear that you had such a fantastic experience at Bakersfield Short North. We appreciate your kind words about our chef Daniel and Paige, as well as the ambiance, food, and drinks. We're sorry we don't have a location in California, but we hope you'll visit us again when you're in the area. Thank you for your support! \n",
      "First time dining here. I've passed by this place a million times but never made it past the door. I decided to grab brunch. The restaurant has a nice vibe. Warm and inviting. The service was friendly and attentive. I opted for 3 tacos and some guacamole and chips. The guacamole wasn't my favorite. Very bland, but the tacos were great. I had a shrimp taco, fish taco and a beef taco that was the special for the day. I would order all three of these again. I'm glad I gave this spot a try. I'll be back.\n",
      "Hi Brent! Thanks for taking the time to share your experience at Bakersfield. Sounds like our guac didn’t hit the mark for you unfortunately. We’d love to make this up to you on your next visit. Please feel free to reach out to let us know when your next visit might be to get your next appetizer on us. You can let reach me at my email below. We hope to see you again. Cheers!Austin MooreGeneral Manageraustin.moore@tdome.com \n",
      "Absolutely love this place. My daughter has been raving about it for months and we recently had the opportunity to visit her. So we decided to try it out. We were not disappointed. The tacos are amazing and everything from the hostess, the server, the tacos, chips and the ambiance were outstanding. We ordered a round of tacos and after finishing them we all agreed that they were the best we ever had. So we ordered another round!!!  We are already planning another trip to visit our daughter and to enjoy dinner at your facility. WELL DONE.\n",
      "We're thrilled to hear that you and your family enjoyed your visit and our tacos! It's wonderful to know that our team and ambiance added to your positive experience. We look forward to welcoming you back on your next visit. Thank you for your kind words and high rating! We appreciate your support and hope to see you back again soon! \n",
      "Went here for a early dinner with some friends and it was so great! I forgot how good their queso was! I ordered the short rib taco (one of their popular ones), the baja shrimp, and the papas and chorizo taco. They were all seriously so delicious. Pineapple marg was pretty standard! Our server was super kind :)\n",
      "Greetings Klaudia,Thank you so much for sharing your positive experience at Bakersfield Short North! We're thrilled to hear that you enjoyed our food, and that our server provided excellent service. We hope to see you again soon!Best,Bakersfield Short North(Note: As this is a positive review, there is no need to use the phone number provided. It is only necessary to use the phone number if there is a negative review and the business wishes to address any concerns the customer may have had.) \n"
     ]
    },
    {
     "data": {
      "text/plain": [
       "[None,\n",
       " None,\n",
       " None,\n",
       " None,\n",
       " None,\n",
       " None,\n",
       " None,\n",
       " None,\n",
       " None,\n",
       " None,\n",
       " None,\n",
       " None,\n",
       " None,\n",
       " None,\n",
       " None,\n",
       " None,\n",
       " None,\n",
       " None,\n",
       " None,\n",
       " None]"
      ]
     },
     "execution_count": 9,
     "metadata": {},
     "output_type": "execute_result"
    }
   ],
   "source": [
    "# Using the text method we will extract only the text of each result in the list and save into a new list called reviews\n",
    "reviews = [result.text for result in results]\n",
    "\n",
    "# Number of reviews\n",
    "print(len(reviews))\n",
    "# Print each review on new line. Just makes it easier to read.\n",
    "[print(review) for review in reviews]"
   ]
  },
  {
   "cell_type": "markdown",
   "id": "cadd08fc-c974-41a1-83cc-314475a9d139",
   "metadata": {},
   "source": [
    "# Getting started with Pandas Dataframes\n",
    "Pandas DataFrames serve as a fundamental tool for data scientists, analysts, and developers, providing a versatile and efficient way to work with structured data, perform data operations, and prepare data for further analysis or machine learning tasks.\n",
    "\n",
    "Simple way to create, label, and clean our data before training. **The point here is to get a taste for what it is like to create data to train a model.**"
   ]
  },
  {
   "cell_type": "markdown",
   "id": "459c208b-caa6-4100-b08b-8912fe96619b",
   "metadata": {},
   "source": [
    "### Our Model\n",
    "We are preparing data for a sentiment analysis model where our model takes in some text (review) and tries to identify if the text is positive or negative. Below steps will show how we can label data we captured with either a positive or negative sentiment."
   ]
  },
  {
   "cell_type": "markdown",
   "id": "03fe003a-d357-45e0-977e-94089cc9ce94",
   "metadata": {},
   "source": [
    "#### Check out this quick primer on Pandas https://www.youtube.com/shorts/H0JriItTqn8"
   ]
  },
  {
   "cell_type": "code",
   "execution_count": 10,
   "id": "2d1ac1e0-91dd-472e-88fe-6f261364896a",
   "metadata": {},
   "outputs": [],
   "source": [
    "# import pandas library\n",
    "import pandas as pd"
   ]
  },
  {
   "cell_type": "code",
   "execution_count": 11,
   "id": "74f8b979-4a85-4cbc-8e38-dfbf6b2ff474",
   "metadata": {},
   "outputs": [
    {
     "data": {
      "text/html": [
       "<div>\n",
       "<style scoped>\n",
       "    .dataframe tbody tr th:only-of-type {\n",
       "        vertical-align: middle;\n",
       "    }\n",
       "\n",
       "    .dataframe tbody tr th {\n",
       "        vertical-align: top;\n",
       "    }\n",
       "\n",
       "    .dataframe thead th {\n",
       "        text-align: right;\n",
       "    }\n",
       "</style>\n",
       "<table border=\"1\" class=\"dataframe\">\n",
       "  <thead>\n",
       "    <tr style=\"text-align: right;\">\n",
       "      <th></th>\n",
       "      <th>review</th>\n",
       "    </tr>\n",
       "  </thead>\n",
       "  <tbody>\n",
       "    <tr>\n",
       "      <th>0</th>\n",
       "      <td>Great spot in the short north for a good casua...</td>\n",
       "    </tr>\n",
       "    <tr>\n",
       "      <th>1</th>\n",
       "      <td>Thanks for taking time to share, Blake! It's w...</td>\n",
       "    </tr>\n",
       "    <tr>\n",
       "      <th>2</th>\n",
       "      <td>Wow-this was delicious. From start to finish, ...</td>\n",
       "    </tr>\n",
       "    <tr>\n",
       "      <th>3</th>\n",
       "      <td>Thank you for your positive review, Alannah! W...</td>\n",
       "    </tr>\n",
       "    <tr>\n",
       "      <th>4</th>\n",
       "      <td>Fine choice for a quick bite. Their marketing ...</td>\n",
       "    </tr>\n",
       "    <tr>\n",
       "      <th>5</th>\n",
       "      <td>We appreciate your feedback, Celina. While we ...</td>\n",
       "    </tr>\n",
       "    <tr>\n",
       "      <th>6</th>\n",
       "      <td>I don't think I've ever gone to Bakersfield an...</td>\n",
       "    </tr>\n",
       "    <tr>\n",
       "      <th>7</th>\n",
       "      <td>Thank you for your review, Diana! We appreciat...</td>\n",
       "    </tr>\n",
       "    <tr>\n",
       "      <th>8</th>\n",
       "      <td>Drinks are great!  Haven't tried the food yet ...</td>\n",
       "    </tr>\n",
       "    <tr>\n",
       "      <th>9</th>\n",
       "      <td>Thank you for your positive review, Kelly! We'...</td>\n",
       "    </tr>\n",
       "    <tr>\n",
       "      <th>10</th>\n",
       "      <td>We came here for a drink and a quick bite to e...</td>\n",
       "    </tr>\n",
       "    <tr>\n",
       "      <th>11</th>\n",
       "      <td>We're thrilled to hear you enjoyed our tequila...</td>\n",
       "    </tr>\n",
       "    <tr>\n",
       "      <th>12</th>\n",
       "      <td>Ok why do we not have this place in California...</td>\n",
       "    </tr>\n",
       "    <tr>\n",
       "      <th>13</th>\n",
       "      <td>Thank you for your amazing review, Sonia Alisa...</td>\n",
       "    </tr>\n",
       "    <tr>\n",
       "      <th>14</th>\n",
       "      <td>First time dining here. I've passed by this pl...</td>\n",
       "    </tr>\n",
       "    <tr>\n",
       "      <th>15</th>\n",
       "      <td>Hi Brent! Thanks for taking the time to share ...</td>\n",
       "    </tr>\n",
       "    <tr>\n",
       "      <th>16</th>\n",
       "      <td>Absolutely love this place. My daughter has be...</td>\n",
       "    </tr>\n",
       "    <tr>\n",
       "      <th>17</th>\n",
       "      <td>We're thrilled to hear that you and your famil...</td>\n",
       "    </tr>\n",
       "    <tr>\n",
       "      <th>18</th>\n",
       "      <td>Went here for a early dinner with some friends...</td>\n",
       "    </tr>\n",
       "    <tr>\n",
       "      <th>19</th>\n",
       "      <td>Greetings Klaudia,Thank you so much for sharin...</td>\n",
       "    </tr>\n",
       "  </tbody>\n",
       "</table>\n",
       "</div>"
      ],
      "text/plain": [
       "                                               review\n",
       "0   Great spot in the short north for a good casua...\n",
       "1   Thanks for taking time to share, Blake! It's w...\n",
       "2   Wow-this was delicious. From start to finish, ...\n",
       "3   Thank you for your positive review, Alannah! W...\n",
       "4   Fine choice for a quick bite. Their marketing ...\n",
       "5   We appreciate your feedback, Celina. While we ...\n",
       "6   I don't think I've ever gone to Bakersfield an...\n",
       "7   Thank you for your review, Diana! We appreciat...\n",
       "8   Drinks are great!  Haven't tried the food yet ...\n",
       "9   Thank you for your positive review, Kelly! We'...\n",
       "10  We came here for a drink and a quick bite to e...\n",
       "11  We're thrilled to hear you enjoyed our tequila...\n",
       "12  Ok why do we not have this place in California...\n",
       "13  Thank you for your amazing review, Sonia Alisa...\n",
       "14  First time dining here. I've passed by this pl...\n",
       "15  Hi Brent! Thanks for taking the time to share ...\n",
       "16  Absolutely love this place. My daughter has be...\n",
       "17  We're thrilled to hear that you and your famil...\n",
       "18  Went here for a early dinner with some friends...\n",
       "19  Greetings Klaudia,Thank you so much for sharin..."
      ]
     },
     "execution_count": 11,
     "metadata": {},
     "output_type": "execute_result"
    }
   ],
   "source": [
    "# Lets import each one of our reviews from above into a Pandas dataframe for analysis.\n",
    "\n",
    "# Create a Dataframe from pandas using the DataFrame class\n",
    "df = pd.DataFrame(reviews, columns=['review'])\n",
    "\n",
    "# Print the dataframe. NOTE: not using print() method displays it in a nicer format.\n",
    "df"
   ]
  },
  {
   "cell_type": "code",
   "execution_count": 12,
   "id": "6186e320-e53b-4e16-8efa-5d35ab2348db",
   "metadata": {},
   "outputs": [
    {
     "data": {
      "text/html": [
       "<div>\n",
       "<style scoped>\n",
       "    .dataframe tbody tr th:only-of-type {\n",
       "        vertical-align: middle;\n",
       "    }\n",
       "\n",
       "    .dataframe tbody tr th {\n",
       "        vertical-align: top;\n",
       "    }\n",
       "\n",
       "    .dataframe thead th {\n",
       "        text-align: right;\n",
       "    }\n",
       "</style>\n",
       "<table border=\"1\" class=\"dataframe\">\n",
       "  <thead>\n",
       "    <tr style=\"text-align: right;\">\n",
       "      <th></th>\n",
       "      <th>review</th>\n",
       "      <th>sentiment</th>\n",
       "    </tr>\n",
       "  </thead>\n",
       "  <tbody>\n",
       "    <tr>\n",
       "      <th>0</th>\n",
       "      <td>Great spot in the short north for a good casua...</td>\n",
       "      <td></td>\n",
       "    </tr>\n",
       "    <tr>\n",
       "      <th>1</th>\n",
       "      <td>Thanks for taking time to share, Blake! It's w...</td>\n",
       "      <td></td>\n",
       "    </tr>\n",
       "    <tr>\n",
       "      <th>2</th>\n",
       "      <td>Wow-this was delicious. From start to finish, ...</td>\n",
       "      <td></td>\n",
       "    </tr>\n",
       "    <tr>\n",
       "      <th>3</th>\n",
       "      <td>Thank you for your positive review, Alannah! W...</td>\n",
       "      <td></td>\n",
       "    </tr>\n",
       "    <tr>\n",
       "      <th>4</th>\n",
       "      <td>Fine choice for a quick bite. Their marketing ...</td>\n",
       "      <td></td>\n",
       "    </tr>\n",
       "    <tr>\n",
       "      <th>5</th>\n",
       "      <td>We appreciate your feedback, Celina. While we ...</td>\n",
       "      <td></td>\n",
       "    </tr>\n",
       "    <tr>\n",
       "      <th>6</th>\n",
       "      <td>I don't think I've ever gone to Bakersfield an...</td>\n",
       "      <td></td>\n",
       "    </tr>\n",
       "    <tr>\n",
       "      <th>7</th>\n",
       "      <td>Thank you for your review, Diana! We appreciat...</td>\n",
       "      <td></td>\n",
       "    </tr>\n",
       "    <tr>\n",
       "      <th>8</th>\n",
       "      <td>Drinks are great!  Haven't tried the food yet ...</td>\n",
       "      <td></td>\n",
       "    </tr>\n",
       "    <tr>\n",
       "      <th>9</th>\n",
       "      <td>Thank you for your positive review, Kelly! We'...</td>\n",
       "      <td></td>\n",
       "    </tr>\n",
       "    <tr>\n",
       "      <th>10</th>\n",
       "      <td>We came here for a drink and a quick bite to e...</td>\n",
       "      <td></td>\n",
       "    </tr>\n",
       "    <tr>\n",
       "      <th>11</th>\n",
       "      <td>We're thrilled to hear you enjoyed our tequila...</td>\n",
       "      <td></td>\n",
       "    </tr>\n",
       "    <tr>\n",
       "      <th>12</th>\n",
       "      <td>Ok why do we not have this place in California...</td>\n",
       "      <td></td>\n",
       "    </tr>\n",
       "    <tr>\n",
       "      <th>13</th>\n",
       "      <td>Thank you for your amazing review, Sonia Alisa...</td>\n",
       "      <td></td>\n",
       "    </tr>\n",
       "    <tr>\n",
       "      <th>14</th>\n",
       "      <td>First time dining here. I've passed by this pl...</td>\n",
       "      <td></td>\n",
       "    </tr>\n",
       "    <tr>\n",
       "      <th>15</th>\n",
       "      <td>Hi Brent! Thanks for taking the time to share ...</td>\n",
       "      <td></td>\n",
       "    </tr>\n",
       "    <tr>\n",
       "      <th>16</th>\n",
       "      <td>Absolutely love this place. My daughter has be...</td>\n",
       "      <td></td>\n",
       "    </tr>\n",
       "    <tr>\n",
       "      <th>17</th>\n",
       "      <td>We're thrilled to hear that you and your famil...</td>\n",
       "      <td></td>\n",
       "    </tr>\n",
       "    <tr>\n",
       "      <th>18</th>\n",
       "      <td>Went here for a early dinner with some friends...</td>\n",
       "      <td></td>\n",
       "    </tr>\n",
       "    <tr>\n",
       "      <th>19</th>\n",
       "      <td>Greetings Klaudia,Thank you so much for sharin...</td>\n",
       "      <td></td>\n",
       "    </tr>\n",
       "  </tbody>\n",
       "</table>\n",
       "</div>"
      ],
      "text/plain": [
       "                                               review sentiment\n",
       "0   Great spot in the short north for a good casua...          \n",
       "1   Thanks for taking time to share, Blake! It's w...          \n",
       "2   Wow-this was delicious. From start to finish, ...          \n",
       "3   Thank you for your positive review, Alannah! W...          \n",
       "4   Fine choice for a quick bite. Their marketing ...          \n",
       "5   We appreciate your feedback, Celina. While we ...          \n",
       "6   I don't think I've ever gone to Bakersfield an...          \n",
       "7   Thank you for your review, Diana! We appreciat...          \n",
       "8   Drinks are great!  Haven't tried the food yet ...          \n",
       "9   Thank you for your positive review, Kelly! We'...          \n",
       "10  We came here for a drink and a quick bite to e...          \n",
       "11  We're thrilled to hear you enjoyed our tequila...          \n",
       "12  Ok why do we not have this place in California...          \n",
       "13  Thank you for your amazing review, Sonia Alisa...          \n",
       "14  First time dining here. I've passed by this pl...          \n",
       "15  Hi Brent! Thanks for taking the time to share ...          \n",
       "16  Absolutely love this place. My daughter has be...          \n",
       "17  We're thrilled to hear that you and your famil...          \n",
       "18  Went here for a early dinner with some friends...          \n",
       "19  Greetings Klaudia,Thank you so much for sharin...          "
      ]
     },
     "execution_count": 12,
     "metadata": {},
     "output_type": "execute_result"
    }
   ],
   "source": [
    "# Add an additional empty colummn for sentiment in the dataframe. This column will be where we add our analysis.\n",
    "df['sentiment'] = \"\" \n",
    "\n",
    "# See it\n",
    "df"
   ]
  },
  {
   "cell_type": "code",
   "execution_count": 13,
   "id": "3dfa6f37-e22d-41e1-a7af-4f8fa4b10a5c",
   "metadata": {},
   "outputs": [
    {
     "data": {
      "text/plain": [
       "'Great spot in the short north for a good casual bite!Great food, great atmosphere, even better service!Our server Leyla was phenomenal! Thank you and see you next time!'"
      ]
     },
     "execution_count": 13,
     "metadata": {},
     "output_type": "execute_result"
    }
   ],
   "source": [
    "# Show the text of the first review. Here we filter the first row with .iloc and ONLY the 'review' column.\n",
    "df['review'].iloc[0]"
   ]
  },
  {
   "cell_type": "code",
   "execution_count": 14,
   "id": "2cc09cf0-afa0-4a5b-9b2a-6c7aefa56a26",
   "metadata": {},
   "outputs": [
    {
     "name": "stderr",
     "output_type": "stream",
     "text": [
      "/var/folders/9j/mvcchftn0h7507fkdslzrz880000gn/T/ipykernel_39017/250180204.py:4: FutureWarning: ChainedAssignmentError: behaviour will change in pandas 3.0!\n",
      "You are setting values through chained assignment. Currently this works in certain cases, but when using Copy-on-Write (which will become the default behaviour in pandas 3.0) this will never work to update the original DataFrame or Series, because the intermediate object on which we are setting values will behave as a copy.\n",
      "A typical example is when you are setting values in a column of a DataFrame, like:\n",
      "\n",
      "df[\"col\"][row_indexer] = value\n",
      "\n",
      "Use `df.loc[row_indexer, \"col\"] = values` instead, to perform the assignment in a single step and ensure this keeps updating the original `df`.\n",
      "\n",
      "See the caveats in the documentation: https://pandas.pydata.org/pandas-docs/stable/user_guide/indexing.html#returning-a-view-versus-a-copy\n",
      "\n",
      "  df['sentiment'].iloc[0] = 'positive'\n"
     ]
    },
    {
     "data": {
      "text/plain": [
       "review       Great spot in the short north for a good casua...\n",
       "sentiment                                             positive\n",
       "Name: 0, dtype: object"
      ]
     },
     "execution_count": 14,
     "metadata": {},
     "output_type": "execute_result"
    }
   ],
   "source": [
    "# After reading the text, is it positive or negative?\n",
    "\n",
    "# We will consider this review as positive\n",
    "df['sentiment'].iloc[0] = 'positive'\n",
    "\n",
    "# display first row \n",
    "df.iloc[0]\n",
    "\n",
    "# Or uncomment to display the entire DF\n",
    "#df"
   ]
  },
  {
   "cell_type": "code",
   "execution_count": 15,
   "id": "d9a21c8b-7a20-49a7-9358-e8817e7460a4",
   "metadata": {},
   "outputs": [
    {
     "data": {
      "text/plain": [
       "\"Thanks for taking time to share, Blake! It's wonderful to know that our team, especially Leyla, made your experience memorable. We appreciate your support and look forward to welcoming you back soon! \""
      ]
     },
     "execution_count": 15,
     "metadata": {},
     "output_type": "execute_result"
    }
   ],
   "source": [
    "# Repeat the same step for the rest of the rows. Run the next two cells one after another first changing the row variable\n",
    "row = 1\n",
    "\n",
    "df['review'].iloc[row]"
   ]
  },
  {
   "cell_type": "code",
   "execution_count": 16,
   "id": "2acb4897-8e84-46d5-a232-122139b01182",
   "metadata": {},
   "outputs": [
    {
     "name": "stderr",
     "output_type": "stream",
     "text": [
      "/var/folders/9j/mvcchftn0h7507fkdslzrz880000gn/T/ipykernel_39017/2187065217.py:2: FutureWarning: ChainedAssignmentError: behaviour will change in pandas 3.0!\n",
      "You are setting values through chained assignment. Currently this works in certain cases, but when using Copy-on-Write (which will become the default behaviour in pandas 3.0) this will never work to update the original DataFrame or Series, because the intermediate object on which we are setting values will behave as a copy.\n",
      "A typical example is when you are setting values in a column of a DataFrame, like:\n",
      "\n",
      "df[\"col\"][row_indexer] = value\n",
      "\n",
      "Use `df.loc[row_indexer, \"col\"] = values` instead, to perform the assignment in a single step and ensure this keeps updating the original `df`.\n",
      "\n",
      "See the caveats in the documentation: https://pandas.pydata.org/pandas-docs/stable/user_guide/indexing.html#returning-a-view-versus-a-copy\n",
      "\n",
      "  df['sentiment'].iloc[row] = '' #'positive' or negative\n"
     ]
    }
   ],
   "source": [
    "# Make Positive or negative\n",
    "df['sentiment'].iloc[row] = '' #'positive' or negative"
   ]
  },
  {
   "cell_type": "code",
   "execution_count": null,
   "id": "6d565d22-d2c3-4780-9ec3-74ab3dac73b8",
   "metadata": {},
   "outputs": [],
   "source": [
    "# Display the results when done\n",
    "df"
   ]
  },
  {
   "cell_type": "code",
   "execution_count": null,
   "id": "ab4d3b70-40af-4054-ac78-13d0fcfc3f6a",
   "metadata": {},
   "outputs": [],
   "source": [
    "# If you would like to randomly generate the sentiment you can uncomment all the cell code below\n",
    "# import random\n",
    "\n",
    "# rand_sentiment = ['positive', 'negative']\n",
    "\n",
    "# for row in range(len(df)):\n",
    "#     df['sentiment'].iloc[row] = random.choice(rand_sentiment)\n",
    "\n",
    "# df"
   ]
  },
  {
   "cell_type": "code",
   "execution_count": null,
   "id": "65518401-8c96-4495-a1ff-b0cc765b14b9",
   "metadata": {},
   "outputs": [],
   "source": [
    "# To save our DF to pickup where we left off, we can dump it to a file such as a csv or parquet. \n",
    "\n",
    "# Lets save our DF as a csv.\n",
    "df.to_csv('yelp_sentiment.csv')\n",
    "\n",
    "# You will see that a new file was created in your current directory."
   ]
  },
  {
   "cell_type": "code",
   "execution_count": null,
   "id": "0e6cfc6e-849f-4334-9782-16be236ec1c4",
   "metadata": {},
   "outputs": [],
   "source": [
    "# When you are ready to pick back up where you left off you can load a file into a DF using the read_csv() method.\n",
    "import pandas as pd\n",
    "\n",
    "# Calling this new_df so not to confuse with current \n",
    "new_df = pd.read_csv('yelp_sentiment.csv', index_col=0)\n",
    "\n",
    "# Print it and make sure the DF matches where you left off above.\n",
    "new_df"
   ]
  },
  {
   "cell_type": "markdown",
   "id": "ac3c2e41-5401-45b4-9f8d-5da09b045947",
   "metadata": {},
   "source": [
    "# Importing Data from Kaggle\n",
    "For our dataset for training our model we will use a dataset from Kaggle.\n",
    "\n",
    "Go to [Kaggle](https://www.kaggle.com/datasets/zhenyufan/yelp-reveiws?resource=download) and download the Yelp Dataset there so you can become familiar with Kaggle.\n",
    "\n",
    "**If you cannot download and extract it, a copy is at 'yelp.csv'.**"
   ]
  },
  {
   "cell_type": "code",
   "execution_count": 17,
   "id": "ea566643-a774-48c9-beff-71e8db615812",
   "metadata": {},
   "outputs": [
    {
     "name": "stdout",
     "output_type": "stream",
     "text": [
      "<class 'pandas.core.frame.DataFrame'>\n",
      "RangeIndex: 10000 entries, 0 to 9999\n",
      "Data columns (total 10 columns):\n",
      " #   Column       Non-Null Count  Dtype \n",
      "---  ------       --------------  ----- \n",
      " 0   business_id  10000 non-null  object\n",
      " 1   date         10000 non-null  object\n",
      " 2   review_id    10000 non-null  object\n",
      " 3   stars        10000 non-null  int64 \n",
      " 4   text         10000 non-null  object\n",
      " 5   type         10000 non-null  object\n",
      " 6   user_id      10000 non-null  object\n",
      " 7   cool         10000 non-null  int64 \n",
      " 8   useful       10000 non-null  int64 \n",
      " 9   funny        10000 non-null  int64 \n",
      "dtypes: int64(4), object(6)\n",
      "memory usage: 781.4+ KB\n"
     ]
    }
   ],
   "source": [
    "# Lets begin taking a look at the dataset and become familiar with it.\n",
    "import pandas as pd\n",
    "\n",
    "# Read in the csv to a DF \n",
    "df = pd.read_csv('yelp.csv')\n",
    "\n",
    "# Get information on the data\n",
    "df.info()"
   ]
  },
  {
   "cell_type": "markdown",
   "id": "02c0c7d6-4df6-4426-9657-95fe07b98a8d",
   "metadata": {},
   "source": [
    "## Dataset for our Model\n",
    "You will see that the dataset consists of 10K entries with 7 columns. Columns of interest to train our sentiment model would be:\n",
    "- stars - This would indicate 1-5 rating on experience. 1 being low and 5 being high.\n",
    "- text - actual review text. This would be classified as either positive or negative for our model. \n",
    "\n",
    "To train our sentiment analysis classifier model, we could take take any rating 3 or higher as positive and anything 2 or lower as negative. "
   ]
  },
  {
   "cell_type": "code",
   "execution_count": 18,
   "id": "7631af16-7265-4785-8605-174f2945cb16",
   "metadata": {},
   "outputs": [],
   "source": [
    "# Just to clean things up a bit let's delete columns we dont need: business_id, date, review_id, type, user_id, cool, useful and funny.\n",
    "df = df.drop(columns=['business_id', 'date', 'review_id', 'date', 'type', 'user_id', 'cool', 'useful', 'funny'])"
   ]
  },
  {
   "cell_type": "code",
   "execution_count": 19,
   "id": "d29e9ae0-ff1a-4028-ae6e-f2ef3a38c8f5",
   "metadata": {},
   "outputs": [],
   "source": [
    "# Lets create another column called 'sentiment'.\n",
    "df['sentiment'] = \"\""
   ]
  },
  {
   "cell_type": "code",
   "execution_count": 20,
   "id": "48230fb8-a156-4c4b-be34-3b19c109c84f",
   "metadata": {},
   "outputs": [
    {
     "name": "stderr",
     "output_type": "stream",
     "text": [
      "IOPub data rate exceeded.\n",
      "The Jupyter server will temporarily stop sending output\n",
      "to the client in order to avoid crashing it.\n",
      "To change this limit, set the config variable\n",
      "`--ServerApp.iopub_data_rate_limit`.\n",
      "\n",
      "Current values:\n",
      "ServerApp.iopub_data_rate_limit=1000000.0 (bytes/sec)\n",
      "ServerApp.rate_limit_window=3.0 (secs)\n",
      "\n"
     ]
    },
    {
     "data": {
      "text/html": [
       "<div>\n",
       "<style scoped>\n",
       "    .dataframe tbody tr th:only-of-type {\n",
       "        vertical-align: middle;\n",
       "    }\n",
       "\n",
       "    .dataframe tbody tr th {\n",
       "        vertical-align: top;\n",
       "    }\n",
       "\n",
       "    .dataframe thead th {\n",
       "        text-align: right;\n",
       "    }\n",
       "</style>\n",
       "<table border=\"1\" class=\"dataframe\">\n",
       "  <thead>\n",
       "    <tr style=\"text-align: right;\">\n",
       "      <th></th>\n",
       "      <th>stars</th>\n",
       "      <th>text</th>\n",
       "      <th>sentiment</th>\n",
       "    </tr>\n",
       "  </thead>\n",
       "  <tbody>\n",
       "    <tr>\n",
       "      <th>0</th>\n",
       "      <td>5</td>\n",
       "      <td>My wife took me here on my birthday for breakf...</td>\n",
       "      <td>positive</td>\n",
       "    </tr>\n",
       "    <tr>\n",
       "      <th>1</th>\n",
       "      <td>5</td>\n",
       "      <td>I have no idea why some people give bad review...</td>\n",
       "      <td>positive</td>\n",
       "    </tr>\n",
       "    <tr>\n",
       "      <th>2</th>\n",
       "      <td>4</td>\n",
       "      <td>love the gyro plate. Rice is so good and I als...</td>\n",
       "      <td>positive</td>\n",
       "    </tr>\n",
       "    <tr>\n",
       "      <th>3</th>\n",
       "      <td>5</td>\n",
       "      <td>Rosie, Dakota, and I LOVE Chaparral Dog Park!!...</td>\n",
       "      <td>positive</td>\n",
       "    </tr>\n",
       "    <tr>\n",
       "      <th>4</th>\n",
       "      <td>5</td>\n",
       "      <td>General Manager Scott Petello is a good egg!!!...</td>\n",
       "      <td>positive</td>\n",
       "    </tr>\n",
       "    <tr>\n",
       "      <th>...</th>\n",
       "      <td>...</td>\n",
       "      <td>...</td>\n",
       "      <td>...</td>\n",
       "    </tr>\n",
       "    <tr>\n",
       "      <th>9995</th>\n",
       "      <td>3</td>\n",
       "      <td>First visit...Had lunch here today - used my G...</td>\n",
       "      <td>positive</td>\n",
       "    </tr>\n",
       "    <tr>\n",
       "      <th>9996</th>\n",
       "      <td>4</td>\n",
       "      <td>Should be called house of deliciousness!\\n\\nI ...</td>\n",
       "      <td>positive</td>\n",
       "    </tr>\n",
       "    <tr>\n",
       "      <th>9997</th>\n",
       "      <td>4</td>\n",
       "      <td>I recently visited Olive and Ivy for business ...</td>\n",
       "      <td>positive</td>\n",
       "    </tr>\n",
       "    <tr>\n",
       "      <th>9998</th>\n",
       "      <td>2</td>\n",
       "      <td>My nephew just moved to Scottsdale recently so...</td>\n",
       "      <td>negative</td>\n",
       "    </tr>\n",
       "    <tr>\n",
       "      <th>9999</th>\n",
       "      <td>5</td>\n",
       "      <td>4-5 locations.. all 4.5 star average.. I think...</td>\n",
       "      <td>positive</td>\n",
       "    </tr>\n",
       "  </tbody>\n",
       "</table>\n",
       "<p>10000 rows × 3 columns</p>\n",
       "</div>"
      ],
      "text/plain": [
       "      stars                                               text sentiment\n",
       "0         5  My wife took me here on my birthday for breakf...  positive\n",
       "1         5  I have no idea why some people give bad review...  positive\n",
       "2         4  love the gyro plate. Rice is so good and I als...  positive\n",
       "3         5  Rosie, Dakota, and I LOVE Chaparral Dog Park!!...  positive\n",
       "4         5  General Manager Scott Petello is a good egg!!!...  positive\n",
       "...     ...                                                ...       ...\n",
       "9995      3  First visit...Had lunch here today - used my G...  positive\n",
       "9996      4  Should be called house of deliciousness!\\n\\nI ...  positive\n",
       "9997      4  I recently visited Olive and Ivy for business ...  positive\n",
       "9998      2  My nephew just moved to Scottsdale recently so...  negative\n",
       "9999      5  4-5 locations.. all 4.5 star average.. I think...  positive\n",
       "\n",
       "[10000 rows x 3 columns]"
      ]
     },
     "execution_count": 20,
     "metadata": {},
     "output_type": "execute_result"
    }
   ],
   "source": [
    "# Now lets do some calculations. For any row where the stars are 3 or higher, we consider the sentiment to be positive. 2 or under is negative.\n",
    "for row in range(len(df)):\n",
    "    # If greater than or equal to 3 its positive else its negative\n",
    "    if df['stars'].iloc[row] >= 3:\n",
    "        df['sentiment'].iloc[row] = 'positive'\n",
    "    else:\n",
    "        df['sentiment'].iloc[row] = 'negative'\n",
    "\n",
    "# display it\n",
    "df"
   ]
  },
  {
   "cell_type": "code",
   "execution_count": 21,
   "id": "fc3128c4-0f5f-4ed1-b7d4-0954fbddd91e",
   "metadata": {},
   "outputs": [],
   "source": [
    "# Like we did above, save our training data to a csv file for training a model later\n",
    "df.to_csv('training_data.csv')"
   ]
  },
  {
   "cell_type": "code",
   "execution_count": null,
   "id": "79b332b2-00e5-4fe1-99d4-03e27be71547",
   "metadata": {},
   "outputs": [],
   "source": []
  }
 ],
 "metadata": {
  "kernelspec": {
   "display_name": "Python 3 (ipykernel)",
   "language": "python",
   "name": "python3"
  },
  "language_info": {
   "codemirror_mode": {
    "name": "ipython",
    "version": 3
   },
   "file_extension": ".py",
   "mimetype": "text/x-python",
   "name": "python",
   "nbconvert_exporter": "python",
   "pygments_lexer": "ipython3",
   "version": "3.10.8"
  }
 },
 "nbformat": 4,
 "nbformat_minor": 5
}
