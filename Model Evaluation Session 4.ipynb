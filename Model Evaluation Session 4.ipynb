{
 "cells": [
  {
   "cell_type": "code",
   "execution_count": null,
   "id": "756fbaa0-4cfb-411e-aff2-c3955d8dd2cc",
   "metadata": {},
   "outputs": [],
   "source": [
    "# Install Dask because we are going to process a ton of data that Pandas would take a very long time to complete."
   ]
  },
  {
   "cell_type": "code",
   "execution_count": 2,
   "id": "40c9d901-33be-4629-b35f-134d200440c7",
   "metadata": {},
   "outputs": [
    {
     "name": "stdout",
     "output_type": "stream",
     "text": [
      "Requirement already satisfied: dask in ./venv/lib/python3.10/site-packages (2024.4.1)\n",
      "Requirement already satisfied: cloudpickle>=1.5.0 in ./venv/lib/python3.10/site-packages (from dask) (3.0.0)\n",
      "Requirement already satisfied: fsspec>=2021.09.0 in ./venv/lib/python3.10/site-packages (from dask) (2024.3.1)\n",
      "Requirement already satisfied: pyyaml>=5.3.1 in ./venv/lib/python3.10/site-packages (from dask) (6.0.1)\n",
      "Requirement already satisfied: toolz>=0.10.0 in ./venv/lib/python3.10/site-packages (from dask) (0.12.1)\n",
      "Requirement already satisfied: click>=8.1 in ./venv/lib/python3.10/site-packages (from dask) (8.1.7)\n",
      "Requirement already satisfied: packaging>=20.0 in ./venv/lib/python3.10/site-packages (from dask) (24.0)\n",
      "Requirement already satisfied: importlib-metadata>=4.13.0 in ./venv/lib/python3.10/site-packages (from dask) (7.1.0)\n",
      "Requirement already satisfied: partd>=1.2.0 in ./venv/lib/python3.10/site-packages (from dask) (1.4.1)\n",
      "Requirement already satisfied: pandas>=1.3 in ./venv/lib/python3.10/site-packages (from dask) (2.2.1)\n",
      "Collecting dask-expr<1.1,>=1.0\n",
      "  Downloading dask_expr-1.0.11-py3-none-any.whl (184 kB)\n",
      "\u001b[2K     \u001b[38;2;114;156;31m━━━━━━━━━━━━━━━━━━━━━━━━━━━━━━━━━━━━━━━\u001b[0m \u001b[32m185.0/185.0 kB\u001b[0m \u001b[31m1.8 MB/s\u001b[0m eta \u001b[36m0:00:00\u001b[0mm eta \u001b[36m0:00:01\u001b[0m0:01\u001b[0m\n",
      "\u001b[?25hCollecting pyarrow>=7.0.0\n",
      "  Using cached pyarrow-15.0.2-cp310-cp310-macosx_10_15_x86_64.whl (27.2 MB)\n",
      "Requirement already satisfied: zipp>=0.5 in ./venv/lib/python3.10/site-packages (from importlib-metadata>=4.13.0->dask) (3.18.1)\n",
      "Requirement already satisfied: tzdata>=2022.7 in ./venv/lib/python3.10/site-packages (from pandas>=1.3->dask) (2024.1)\n",
      "Requirement already satisfied: numpy<2,>=1.22.4 in ./venv/lib/python3.10/site-packages (from pandas>=1.3->dask) (1.26.4)\n",
      "Requirement already satisfied: pytz>=2020.1 in ./venv/lib/python3.10/site-packages (from pandas>=1.3->dask) (2024.1)\n",
      "Requirement already satisfied: python-dateutil>=2.8.2 in ./venv/lib/python3.10/site-packages (from pandas>=1.3->dask) (2.9.0.post0)\n",
      "Requirement already satisfied: locket in ./venv/lib/python3.10/site-packages (from partd>=1.2.0->dask) (1.0.0)\n",
      "Requirement already satisfied: six>=1.5 in ./venv/lib/python3.10/site-packages (from python-dateutil>=2.8.2->pandas>=1.3->dask) (1.16.0)\n",
      "Installing collected packages: pyarrow, dask-expr\n",
      "Successfully installed dask-expr-1.0.11 pyarrow-15.0.2\n",
      "\n",
      "\u001b[1m[\u001b[0m\u001b[34;49mnotice\u001b[0m\u001b[1;39;49m]\u001b[0m\u001b[39;49m A new release of pip available: \u001b[0m\u001b[31;49m22.2.2\u001b[0m\u001b[39;49m -> \u001b[0m\u001b[32;49m24.0\u001b[0m\n",
      "\u001b[1m[\u001b[0m\u001b[34;49mnotice\u001b[0m\u001b[1;39;49m]\u001b[0m\u001b[39;49m To update, run: \u001b[0m\u001b[32;49mpip install --upgrade pip\u001b[0m\n"
     ]
    }
   ],
   "source": [
    "!pip install dask dask[dataframe]"
   ]
  },
  {
   "cell_type": "code",
   "execution_count": null,
   "id": "e0963818-6d16-4275-860a-ed860312c185",
   "metadata": {},
   "outputs": [],
   "source": [
    "#### RESTART THE KERNEL"
   ]
  },
  {
   "cell_type": "markdown",
   "id": "9b4e8357-e383-4411-81d4-033a217f7f9b",
   "metadata": {},
   "source": [
    "Go to https://www.kaggle.com/datasets/ilhamfp31/yelp-review-dataset, download it and rename it to \"evaluation_dataset.csv\"\n",
    "\n",
    "NOTE: Negative polarity is class 1, and positive class 2."
   ]
  },
  {
   "cell_type": "code",
   "execution_count": 16,
   "id": "15a429ab-560f-487a-aa53-9980ba3a8b32",
   "metadata": {},
   "outputs": [],
   "source": [
    "import pandas as pd\n",
    "\n",
    "df = pd.read_csv(\"evaluation_dataset.csv\",  names=['sentiment','text'], header=None)"
   ]
  },
  {
   "cell_type": "code",
   "execution_count": 17,
   "id": "1e5cdebf-e3d5-4f2c-ac3d-e514361608f0",
   "metadata": {},
   "outputs": [
    {
     "data": {
      "text/html": [
       "<div>\n",
       "<style scoped>\n",
       "    .dataframe tbody tr th:only-of-type {\n",
       "        vertical-align: middle;\n",
       "    }\n",
       "\n",
       "    .dataframe tbody tr th {\n",
       "        vertical-align: top;\n",
       "    }\n",
       "\n",
       "    .dataframe thead th {\n",
       "        text-align: right;\n",
       "    }\n",
       "</style>\n",
       "<table border=\"1\" class=\"dataframe\">\n",
       "  <thead>\n",
       "    <tr style=\"text-align: right;\">\n",
       "      <th></th>\n",
       "      <th>sentiment</th>\n",
       "      <th>text</th>\n",
       "    </tr>\n",
       "  </thead>\n",
       "  <tbody>\n",
       "    <tr>\n",
       "      <th>0</th>\n",
       "      <td>1</td>\n",
       "      <td>Unfortunately, the frustration of being Dr. Go...</td>\n",
       "    </tr>\n",
       "    <tr>\n",
       "      <th>1</th>\n",
       "      <td>2</td>\n",
       "      <td>Been going to Dr. Goldberg for over 10 years. ...</td>\n",
       "    </tr>\n",
       "    <tr>\n",
       "      <th>2</th>\n",
       "      <td>1</td>\n",
       "      <td>I don't know what Dr. Goldberg was like before...</td>\n",
       "    </tr>\n",
       "    <tr>\n",
       "      <th>3</th>\n",
       "      <td>1</td>\n",
       "      <td>I'm writing this review to give you a heads up...</td>\n",
       "    </tr>\n",
       "    <tr>\n",
       "      <th>4</th>\n",
       "      <td>2</td>\n",
       "      <td>All the food is great here. But the best thing...</td>\n",
       "    </tr>\n",
       "    <tr>\n",
       "      <th>...</th>\n",
       "      <td>...</td>\n",
       "      <td>...</td>\n",
       "    </tr>\n",
       "    <tr>\n",
       "      <th>559995</th>\n",
       "      <td>2</td>\n",
       "      <td>Ryan was as good as everyone on yelp has claim...</td>\n",
       "    </tr>\n",
       "    <tr>\n",
       "      <th>559996</th>\n",
       "      <td>2</td>\n",
       "      <td>Professional \\nFriendly\\nOn time AND affordabl...</td>\n",
       "    </tr>\n",
       "    <tr>\n",
       "      <th>559997</th>\n",
       "      <td>1</td>\n",
       "      <td>Phone calls always go to voicemail and message...</td>\n",
       "    </tr>\n",
       "    <tr>\n",
       "      <th>559998</th>\n",
       "      <td>1</td>\n",
       "      <td>Looks like all of the good reviews have gone t...</td>\n",
       "    </tr>\n",
       "    <tr>\n",
       "      <th>559999</th>\n",
       "      <td>2</td>\n",
       "      <td>Ryan Rocks! I called him this morning for some...</td>\n",
       "    </tr>\n",
       "  </tbody>\n",
       "</table>\n",
       "<p>560000 rows × 2 columns</p>\n",
       "</div>"
      ],
      "text/plain": [
       "        sentiment                                               text\n",
       "0               1  Unfortunately, the frustration of being Dr. Go...\n",
       "1               2  Been going to Dr. Goldberg for over 10 years. ...\n",
       "2               1  I don't know what Dr. Goldberg was like before...\n",
       "3               1  I'm writing this review to give you a heads up...\n",
       "4               2  All the food is great here. But the best thing...\n",
       "...           ...                                                ...\n",
       "559995          2  Ryan was as good as everyone on yelp has claim...\n",
       "559996          2  Professional \\nFriendly\\nOn time AND affordabl...\n",
       "559997          1  Phone calls always go to voicemail and message...\n",
       "559998          1  Looks like all of the good reviews have gone t...\n",
       "559999          2  Ryan Rocks! I called him this morning for some...\n",
       "\n",
       "[560000 rows x 2 columns]"
      ]
     },
     "execution_count": 17,
     "metadata": {},
     "output_type": "execute_result"
    }
   ],
   "source": [
    "df"
   ]
  },
  {
   "cell_type": "code",
   "execution_count": 18,
   "id": "a6b81e71-d98c-4fc5-ba5e-78de951550f1",
   "metadata": {},
   "outputs": [],
   "source": [
    "# Lets create another column called 'truth'.\n",
    "df['truth'] = \"\""
   ]
  },
  {
   "cell_type": "code",
   "execution_count": 19,
   "id": "364b0b01-ace4-4a2d-a749-4c5603c07e10",
   "metadata": {},
   "outputs": [
    {
     "name": "stderr",
     "output_type": "stream",
     "text": [
      "IOPub data rate exceeded.\n",
      "The Jupyter server will temporarily stop sending output\n",
      "to the client in order to avoid crashing it.\n",
      "To change this limit, set the config variable\n",
      "`--ServerApp.iopub_data_rate_limit`.\n",
      "\n",
      "Current values:\n",
      "ServerApp.iopub_data_rate_limit=1000000.0 (bytes/sec)\n",
      "ServerApp.rate_limit_window=3.0 (secs)\n",
      "\n",
      "IOPub data rate exceeded.\n",
      "The Jupyter server will temporarily stop sending output\n",
      "to the client in order to avoid crashing it.\n",
      "To change this limit, set the config variable\n",
      "`--ServerApp.iopub_data_rate_limit`.\n",
      "\n",
      "Current values:\n",
      "ServerApp.iopub_data_rate_limit=1000000.0 (bytes/sec)\n",
      "ServerApp.rate_limit_window=3.0 (secs)\n",
      "\n",
      "IOPub data rate exceeded.\n",
      "The Jupyter server will temporarily stop sending output\n",
      "to the client in order to avoid crashing it.\n",
      "To change this limit, set the config variable\n",
      "`--ServerApp.iopub_data_rate_limit`.\n",
      "\n",
      "Current values:\n",
      "ServerApp.iopub_data_rate_limit=1000000.0 (bytes/sec)\n",
      "ServerApp.rate_limit_window=3.0 (secs)\n",
      "\n",
      "IOPub data rate exceeded.\n",
      "The Jupyter server will temporarily stop sending output\n",
      "to the client in order to avoid crashing it.\n",
      "To change this limit, set the config variable\n",
      "`--ServerApp.iopub_data_rate_limit`.\n",
      "\n",
      "Current values:\n",
      "ServerApp.iopub_data_rate_limit=1000000.0 (bytes/sec)\n",
      "ServerApp.rate_limit_window=3.0 (secs)\n",
      "\n"
     ]
    },
    {
     "data": {
      "text/html": [
       "<div>\n",
       "<style scoped>\n",
       "    .dataframe tbody tr th:only-of-type {\n",
       "        vertical-align: middle;\n",
       "    }\n",
       "\n",
       "    .dataframe tbody tr th {\n",
       "        vertical-align: top;\n",
       "    }\n",
       "\n",
       "    .dataframe thead th {\n",
       "        text-align: right;\n",
       "    }\n",
       "</style>\n",
       "<table border=\"1\" class=\"dataframe\">\n",
       "  <thead>\n",
       "    <tr style=\"text-align: right;\">\n",
       "      <th></th>\n",
       "      <th>sentiment</th>\n",
       "      <th>text</th>\n",
       "      <th>truth</th>\n",
       "    </tr>\n",
       "  </thead>\n",
       "  <tbody>\n",
       "    <tr>\n",
       "      <th>0</th>\n",
       "      <td>1</td>\n",
       "      <td>Unfortunately, the frustration of being Dr. Go...</td>\n",
       "      <td>negative</td>\n",
       "    </tr>\n",
       "    <tr>\n",
       "      <th>1</th>\n",
       "      <td>2</td>\n",
       "      <td>Been going to Dr. Goldberg for over 10 years. ...</td>\n",
       "      <td>positive</td>\n",
       "    </tr>\n",
       "    <tr>\n",
       "      <th>2</th>\n",
       "      <td>1</td>\n",
       "      <td>I don't know what Dr. Goldberg was like before...</td>\n",
       "      <td>negative</td>\n",
       "    </tr>\n",
       "    <tr>\n",
       "      <th>3</th>\n",
       "      <td>1</td>\n",
       "      <td>I'm writing this review to give you a heads up...</td>\n",
       "      <td>negative</td>\n",
       "    </tr>\n",
       "    <tr>\n",
       "      <th>4</th>\n",
       "      <td>2</td>\n",
       "      <td>All the food is great here. But the best thing...</td>\n",
       "      <td>positive</td>\n",
       "    </tr>\n",
       "    <tr>\n",
       "      <th>...</th>\n",
       "      <td>...</td>\n",
       "      <td>...</td>\n",
       "      <td>...</td>\n",
       "    </tr>\n",
       "    <tr>\n",
       "      <th>559995</th>\n",
       "      <td>2</td>\n",
       "      <td>Ryan was as good as everyone on yelp has claim...</td>\n",
       "      <td>positive</td>\n",
       "    </tr>\n",
       "    <tr>\n",
       "      <th>559996</th>\n",
       "      <td>2</td>\n",
       "      <td>Professional \\nFriendly\\nOn time AND affordabl...</td>\n",
       "      <td>positive</td>\n",
       "    </tr>\n",
       "    <tr>\n",
       "      <th>559997</th>\n",
       "      <td>1</td>\n",
       "      <td>Phone calls always go to voicemail and message...</td>\n",
       "      <td>negative</td>\n",
       "    </tr>\n",
       "    <tr>\n",
       "      <th>559998</th>\n",
       "      <td>1</td>\n",
       "      <td>Looks like all of the good reviews have gone t...</td>\n",
       "      <td>negative</td>\n",
       "    </tr>\n",
       "    <tr>\n",
       "      <th>559999</th>\n",
       "      <td>2</td>\n",
       "      <td>Ryan Rocks! I called him this morning for some...</td>\n",
       "      <td>positive</td>\n",
       "    </tr>\n",
       "  </tbody>\n",
       "</table>\n",
       "<p>560000 rows × 3 columns</p>\n",
       "</div>"
      ],
      "text/plain": [
       "        sentiment                                               text     truth\n",
       "0               1  Unfortunately, the frustration of being Dr. Go...  negative\n",
       "1               2  Been going to Dr. Goldberg for over 10 years. ...  positive\n",
       "2               1  I don't know what Dr. Goldberg was like before...  negative\n",
       "3               1  I'm writing this review to give you a heads up...  negative\n",
       "4               2  All the food is great here. But the best thing...  positive\n",
       "...           ...                                                ...       ...\n",
       "559995          2  Ryan was as good as everyone on yelp has claim...  positive\n",
       "559996          2  Professional \\nFriendly\\nOn time AND affordabl...  positive\n",
       "559997          1  Phone calls always go to voicemail and message...  negative\n",
       "559998          1  Looks like all of the good reviews have gone t...  negative\n",
       "559999          2  Ryan Rocks! I called him this morning for some...  positive\n",
       "\n",
       "[560000 rows x 3 columns]"
      ]
     },
     "execution_count": 19,
     "metadata": {},
     "output_type": "execute_result"
    }
   ],
   "source": [
    "# Modify original sentiment values to be positive or negative instead of 1 or 2 for the truth category\n",
    "# THIS WILL TAKE SOME TIME TO COMPLETE\n",
    "for row in range(len(df)):\n",
    "    \n",
    "    if df['sentiment'].iloc[row] == 1:\n",
    "        df['truth'].iloc[row] = 'negative'\n",
    "    else:\n",
    "        df['truth'].iloc[row] = 'positive'\n",
    "\n",
    "# display it\n",
    "df"
   ]
  },
  {
   "cell_type": "code",
   "execution_count": 21,
   "id": "3fdcef00-5026-4403-916c-13aae6f398ad",
   "metadata": {},
   "outputs": [],
   "source": [
    "# Load the model\n",
    "import xgboost as xgb\n",
    "\n",
    "model = xgb.XGBClassifier(max_depth=10, n_estimators=1000, learning_rate=0.01)\n",
    "model.load_model(\"model.json\")"
   ]
  },
  {
   "cell_type": "code",
   "execution_count": 25,
   "id": "ddd35afe-955c-4234-a228-00592d3c48f4",
   "metadata": {},
   "outputs": [
    {
     "name": "stderr",
     "output_type": "stream",
     "text": [
      "[nltk_data] Downloading package stopwords to\n",
      "[nltk_data]     /Users/weston/nltk_data...\n",
      "[nltk_data]   Package stopwords is already up-to-date!\n",
      "[nltk_data] Downloading package wordnet to /Users/weston/nltk_data...\n",
      "[nltk_data]   Package wordnet is already up-to-date!\n"
     ]
    }
   ],
   "source": [
    "# Load our dataprocessing as we did in Session 3 for inference\n",
    "import nltk\n",
    "from nltk.corpus import stopwords\n",
    "from nltk.stem import WordNetLemmatizer\n",
    "import re\n",
    "import pickle\n",
    "\n",
    "# Download corpora (shit ton of text)\n",
    "nltk.download('stopwords')\n",
    "nltk.download('wordnet')\n",
    "\n",
    "# English stop words here\n",
    "stop_words = set(stopwords.words('english'))\n",
    "lemmatizer = WordNetLemmatizer()\n",
    "\n",
    "# Load our vectorizer\n",
    "loaded_vectorizer = pickle.load(open('vectorizer.pickle', 'rb'))"
   ]
  },
  {
   "cell_type": "code",
   "execution_count": 26,
   "id": "30f0107d-7c64-437c-8e27-67276de0d403",
   "metadata": {},
   "outputs": [],
   "source": [
    "# our function to get predictions from our model\n",
    "def predict(text):\n",
    "    # Remove punctuation\n",
    "    text = re.sub(r'[^\\w\\s]', '', text, re.UNICODE)\n",
    "    # convert to lowercase\n",
    "    text = text.lower()\n",
    "    # Lemmatize\n",
    "    text = [lemmatizer.lemmatize(token) for token in text.split(\" \")] \n",
    "    # remove stop words\n",
    "    text = [word for word in text if not word in stop_words] \n",
    "    # Bring the list back into a string\n",
    "    text = \" \".join(text)\n",
    "\n",
    "    # Vectorize from our vectorizer created above\n",
    "    data_features = loaded_vectorizer.transform([text])\n",
    "    # Create an array as it expects\n",
    "    data_features = data_features.toarray()\n",
    "\n",
    "    # Get the prediciton \n",
    "    prediction = model.predict(data_features)[0]\n",
    "\n",
    "    # 1 is positive 0 is negative\n",
    "    if prediction == 1:\n",
    "        sentiment = 'positive'\n",
    "    else: \n",
    "        sentiment = 'negative'\n",
    "\n",
    "    return sentiment"
   ]
  },
  {
   "cell_type": "code",
   "execution_count": 35,
   "id": "c9e7b27d-0f0b-4ea0-8fe5-592f8c06c8a5",
   "metadata": {},
   "outputs": [],
   "source": [
    "import pandas as pd\n",
    "import dask.dataframe as dd\n",
    "\n",
    "# Convert pandas DataFrame to Dask DataFrame\n",
    "# Trying to speed up the processing time!\n",
    "ddf = dd.from_pandas(df, npartitions=2)"
   ]
  },
  {
   "cell_type": "code",
   "execution_count": 36,
   "id": "6544f15c-85ff-40ba-bdee-4faff95f60cb",
   "metadata": {},
   "outputs": [],
   "source": [
    "# Get the predictions by running the function\n",
    "ddf['predictions'] = ddf.map_partitions(lambda df: df['text'].apply(predict),meta=('text', 'object'))"
   ]
  },
  {
   "cell_type": "code",
   "execution_count": 37,
   "id": "b9190074-afaa-4d61-b06f-aa03d230714c",
   "metadata": {},
   "outputs": [
    {
     "name": "stdout",
     "output_type": "stream",
     "text": [
      "        sentiment                                               text  \\\n",
      "0               1  Unfortunately, the frustration of being Dr. Go...   \n",
      "1               2  Been going to Dr. Goldberg for over 10 years. ...   \n",
      "2               1  I don't know what Dr. Goldberg was like before...   \n",
      "3               1  I'm writing this review to give you a heads up...   \n",
      "4               2  All the food is great here. But the best thing...   \n",
      "...           ...                                                ...   \n",
      "559995          2  Ryan was as good as everyone on yelp has claim...   \n",
      "559996          2  Professional \\nFriendly\\nOn time AND affordabl...   \n",
      "559997          1  Phone calls always go to voicemail and message...   \n",
      "559998          1  Looks like all of the good reviews have gone t...   \n",
      "559999          2  Ryan Rocks! I called him this morning for some...   \n",
      "\n",
      "           truth predictions  \n",
      "0       negative    negative  \n",
      "1       positive    positive  \n",
      "2       negative    negative  \n",
      "3       negative    negative  \n",
      "4       positive    positive  \n",
      "...          ...         ...  \n",
      "559995  positive    positive  \n",
      "559996  positive    positive  \n",
      "559997  negative    positive  \n",
      "559998  negative    negative  \n",
      "559999  positive    positive  \n",
      "\n",
      "[560000 rows x 4 columns]\n"
     ]
    }
   ],
   "source": [
    "# Compute the result.\n",
    "# THIS WILL TAKE SOME TIME\n",
    "result = ddf.compute()\n",
    "print(result)"
   ]
  },
  {
   "cell_type": "code",
   "execution_count": 44,
   "id": "ee8f7c47-4a74-4b8c-bca8-861b2b485b5f",
   "metadata": {},
   "outputs": [],
   "source": [
    "result.to_csv(\"evaluation_results.csv\")"
   ]
  },
  {
   "cell_type": "code",
   "execution_count": null,
   "id": "2d890453-7932-4ef0-b60e-fe56f7a8fb11",
   "metadata": {},
   "outputs": [],
   "source": [
    "# Restart the Kernel"
   ]
  },
  {
   "cell_type": "code",
   "execution_count": 8,
   "id": "9447f553-8f1c-47f8-bc96-4bff26813ab9",
   "metadata": {},
   "outputs": [],
   "source": [
    "# Import the evaluation output back into pandas\n",
    "import pandas as pd\n",
    "\n",
    "df = pd.read_csv(\"evaluation_results.csv\", index_col=0)"
   ]
  },
  {
   "cell_type": "code",
   "execution_count": 9,
   "id": "ec686810-bfa0-49c8-b6a3-1d7ed7eec622",
   "metadata": {},
   "outputs": [
    {
     "data": {
      "text/html": [
       "<div>\n",
       "<style scoped>\n",
       "    .dataframe tbody tr th:only-of-type {\n",
       "        vertical-align: middle;\n",
       "    }\n",
       "\n",
       "    .dataframe tbody tr th {\n",
       "        vertical-align: top;\n",
       "    }\n",
       "\n",
       "    .dataframe thead th {\n",
       "        text-align: right;\n",
       "    }\n",
       "</style>\n",
       "<table border=\"1\" class=\"dataframe\">\n",
       "  <thead>\n",
       "    <tr style=\"text-align: right;\">\n",
       "      <th></th>\n",
       "      <th>sentiment</th>\n",
       "      <th>text</th>\n",
       "      <th>truth</th>\n",
       "      <th>predictions</th>\n",
       "    </tr>\n",
       "  </thead>\n",
       "  <tbody>\n",
       "    <tr>\n",
       "      <th>0</th>\n",
       "      <td>1</td>\n",
       "      <td>Unfortunately, the frustration of being Dr. Go...</td>\n",
       "      <td>negative</td>\n",
       "      <td>negative</td>\n",
       "    </tr>\n",
       "    <tr>\n",
       "      <th>1</th>\n",
       "      <td>2</td>\n",
       "      <td>Been going to Dr. Goldberg for over 10 years. ...</td>\n",
       "      <td>positive</td>\n",
       "      <td>positive</td>\n",
       "    </tr>\n",
       "    <tr>\n",
       "      <th>2</th>\n",
       "      <td>1</td>\n",
       "      <td>I don't know what Dr. Goldberg was like before...</td>\n",
       "      <td>negative</td>\n",
       "      <td>negative</td>\n",
       "    </tr>\n",
       "    <tr>\n",
       "      <th>3</th>\n",
       "      <td>1</td>\n",
       "      <td>I'm writing this review to give you a heads up...</td>\n",
       "      <td>negative</td>\n",
       "      <td>negative</td>\n",
       "    </tr>\n",
       "    <tr>\n",
       "      <th>4</th>\n",
       "      <td>2</td>\n",
       "      <td>All the food is great here. But the best thing...</td>\n",
       "      <td>positive</td>\n",
       "      <td>positive</td>\n",
       "    </tr>\n",
       "    <tr>\n",
       "      <th>...</th>\n",
       "      <td>...</td>\n",
       "      <td>...</td>\n",
       "      <td>...</td>\n",
       "      <td>...</td>\n",
       "    </tr>\n",
       "    <tr>\n",
       "      <th>559995</th>\n",
       "      <td>2</td>\n",
       "      <td>Ryan was as good as everyone on yelp has claim...</td>\n",
       "      <td>positive</td>\n",
       "      <td>positive</td>\n",
       "    </tr>\n",
       "    <tr>\n",
       "      <th>559996</th>\n",
       "      <td>2</td>\n",
       "      <td>Professional \\nFriendly\\nOn time AND affordabl...</td>\n",
       "      <td>positive</td>\n",
       "      <td>positive</td>\n",
       "    </tr>\n",
       "    <tr>\n",
       "      <th>559997</th>\n",
       "      <td>1</td>\n",
       "      <td>Phone calls always go to voicemail and message...</td>\n",
       "      <td>negative</td>\n",
       "      <td>positive</td>\n",
       "    </tr>\n",
       "    <tr>\n",
       "      <th>559998</th>\n",
       "      <td>1</td>\n",
       "      <td>Looks like all of the good reviews have gone t...</td>\n",
       "      <td>negative</td>\n",
       "      <td>negative</td>\n",
       "    </tr>\n",
       "    <tr>\n",
       "      <th>559999</th>\n",
       "      <td>2</td>\n",
       "      <td>Ryan Rocks! I called him this morning for some...</td>\n",
       "      <td>positive</td>\n",
       "      <td>positive</td>\n",
       "    </tr>\n",
       "  </tbody>\n",
       "</table>\n",
       "<p>560000 rows × 4 columns</p>\n",
       "</div>"
      ],
      "text/plain": [
       "        sentiment                                               text  \\\n",
       "0               1  Unfortunately, the frustration of being Dr. Go...   \n",
       "1               2  Been going to Dr. Goldberg for over 10 years. ...   \n",
       "2               1  I don't know what Dr. Goldberg was like before...   \n",
       "3               1  I'm writing this review to give you a heads up...   \n",
       "4               2  All the food is great here. But the best thing...   \n",
       "...           ...                                                ...   \n",
       "559995          2  Ryan was as good as everyone on yelp has claim...   \n",
       "559996          2  Professional \\nFriendly\\nOn time AND affordabl...   \n",
       "559997          1  Phone calls always go to voicemail and message...   \n",
       "559998          1  Looks like all of the good reviews have gone t...   \n",
       "559999          2  Ryan Rocks! I called him this morning for some...   \n",
       "\n",
       "           truth predictions  \n",
       "0       negative    negative  \n",
       "1       positive    positive  \n",
       "2       negative    negative  \n",
       "3       negative    negative  \n",
       "4       positive    positive  \n",
       "...          ...         ...  \n",
       "559995  positive    positive  \n",
       "559996  positive    positive  \n",
       "559997  negative    positive  \n",
       "559998  negative    negative  \n",
       "559999  positive    positive  \n",
       "\n",
       "[560000 rows x 4 columns]"
      ]
     },
     "execution_count": 9,
     "metadata": {},
     "output_type": "execute_result"
    }
   ],
   "source": [
    "df"
   ]
  },
  {
   "cell_type": "code",
   "execution_count": 3,
   "id": "e3985f1a-1bb4-4a0a-a621-30c2dc6d20d7",
   "metadata": {},
   "outputs": [],
   "source": [
    "# Comparing 'truth' and 'predictions' columns. If model got it correct then it is True\n",
    "df['correct'] = df['truth'] == df['predictions']"
   ]
  },
  {
   "cell_type": "code",
   "execution_count": 5,
   "id": "1886d7e2-8da4-4e38-ab19-6313e737a3c1",
   "metadata": {},
   "outputs": [
    {
     "name": "stdout",
     "output_type": "stream",
     "text": [
      "Number of matches: 402490\n"
     ]
    }
   ],
   "source": [
    "# Out of all results, how many correct?\n",
    "true_count = df['correct'].sum()\n",
    "\n",
    "# Print the count\n",
    "print(\"Number of matches:\", true_count)"
   ]
  },
  {
   "cell_type": "code",
   "execution_count": 7,
   "id": "8af19b11-8e6d-47c6-b2e4-8b1f550edcf8",
   "metadata": {},
   "outputs": [
    {
     "name": "stdout",
     "output_type": "stream",
     "text": [
      "Percentage correct: 0.7187321428571428\n"
     ]
    }
   ],
   "source": [
    "# Percentage correct\n",
    "print(\"Percentage correct:\", true_count / len(df))\n"
   ]
  },
  {
   "cell_type": "code",
   "execution_count": null,
   "id": "be66e5fd-87a1-4ed9-99a8-4bf9cda1962f",
   "metadata": {},
   "outputs": [],
   "source": [
    " #Conclusion"
   ]
  },
  {
   "cell_type": "markdown",
   "id": "c5f88ed5-eff4-45b0-bcca-8d1ab9d3cf01",
   "metadata": {},
   "source": [
    "From here you would do further analysis to figure out where or why your model is not getting desired results or if you think its good enough.\n",
    "\n",
    "You may need to retrain your model with different params, check your training data. Evaluations like confustion matrix is a good place to start for something like this. "
   ]
  },
  {
   "cell_type": "code",
   "execution_count": null,
   "id": "299dff9f-a97c-4dc0-ba69-dc0623dc488f",
   "metadata": {},
   "outputs": [],
   "source": []
  }
 ],
 "metadata": {
  "kernelspec": {
   "display_name": "Python 3 (ipykernel)",
   "language": "python",
   "name": "python3"
  },
  "language_info": {
   "codemirror_mode": {
    "name": "ipython",
    "version": 3
   },
   "file_extension": ".py",
   "mimetype": "text/x-python",
   "name": "python",
   "nbconvert_exporter": "python",
   "pygments_lexer": "ipython3",
   "version": "3.10.8"
  }
 },
 "nbformat": 4,
 "nbformat_minor": 5
}
